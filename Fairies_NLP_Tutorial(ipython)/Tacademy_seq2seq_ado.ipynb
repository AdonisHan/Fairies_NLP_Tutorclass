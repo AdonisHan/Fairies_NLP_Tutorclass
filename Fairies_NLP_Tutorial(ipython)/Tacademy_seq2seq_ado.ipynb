{
 "cells": [
  {
   "cell_type": "markdown",
   "metadata": {},
   "source": [
    "## seq2seq\n",
    "- 차원수 줄이는 법 : \"weight sum\"\n",
    "- single layer perceptron, 추상화를 요약 (1x9) x (9x1) = (1x1)\n",
    "- (1x9) x (9x2(w1,w2)) = (1x2)\n",
    "- stride, filtering, \n",
    "- fully connected network\n",
    "- linear projection : (1x (9+4)) x ((9+4)x 2) =  "
   ]
  },
  {
   "cell_type": "code",
   "execution_count": null,
   "metadata": {},
   "outputs": [],
   "source": []
  }
 ],
 "metadata": {
  "kernelspec": {
   "display_name": "Python 3",
   "language": "python",
   "name": "python3"
  },
  "language_info": {
   "codemirror_mode": {
    "name": "ipython",
    "version": 3
   },
   "file_extension": ".py",
   "mimetype": "text/x-python",
   "name": "python",
   "nbconvert_exporter": "python",
   "pygments_lexer": "ipython3",
   "version": "3.5.5"
  }
 },
 "nbformat": 4,
 "nbformat_minor": 2
}
